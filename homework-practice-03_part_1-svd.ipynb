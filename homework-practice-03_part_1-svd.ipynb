{
 "cells": [
  {
   "cell_type": "markdown",
   "id": "125cf8b8",
   "metadata": {},
   "source": [
    "# Сжатие картинок с помощью SVD разложения\n",
    "В этом задании нужно сделать сжатие изображения, сжатие с потерями. Для этого мы используем SVD разложение.\n",
    "\n",
    "Примерный порядок действий:\n",
    "1) Найти любую картинку,\n",
    "2) Прочитать её с помощью библиотеки PIL\n",
    "3) Преобразовать в numpy массив\n",
    "4) Применить SVD к матрице - обязательно прочитайте справку по этой функции `np.linalg.svd`\n",
    "\n",
    "**Примечание**: Цветная картинка представляет собой трёхканальное изображение RBG, поэтому напрямую SVD разложение применить не получится. Либо вы преобразуете изображение в одноканальное (градации серого), усредняя все три канала. Либо делаете SVD для всех трёх каналов в отдельности.\n",
    "\n",
    "5) Далее оставляете небольшое количество сингулярных значений - 1, 2, 10, 30, 100. И выводите результат в виде получившейся картинки - чем больше сингулярных чисел, тем ближе приближённая матрица к исходной.\n",
    "\n",
    "6) Сравните количество байт, необходимых для хранения исходной картинки и сжатой версии.\n",
    "\n",
    "Ниже представлены основные функции и библиотеки, которые вам понадобятся.\n",
    "\n",
    "Задание оформляете в виде блокнота jupyter. Особо понравившиеся картинки можно сохранить отдельно на диск, но мне удобнее чтобы они присутствовали в самом jupyter блокноте."
   ]
  },
  {
   "cell_type": "code",
   "execution_count": 7,
   "id": "2eb45574",
   "metadata": {},
   "outputs": [],
   "source": [
    "from PIL import Image\n",
    "import numpy as np\n",
    "from matplotlib import pyplot as plt\n",
    "\n",
    "img = Image.open('panda.jpg')\n",
    "w, h = img.size\n",
    "img = img.resize((w//4, h//4)) # можно не делать .resize(())\n",
    "\n",
    "# x = np.array(img, dtype=np.float32) # преобразование из PIL в numpy array\n",
    "# U, S, V = np.linalg.svd(X, full_matrices=False) # разложение SVD\n",
    "# # обратное преобразование из numpy array в PIL с сохранение изображения на диск\n",
    "# Image.fromarray(np.asarray(Y_r, dtype=np.uint8)).save(f'{r}.png')"
   ]
  },
  {
   "cell_type": "code",
   "execution_count": 8,
   "id": "14de7df7-a270-4cbf-9998-9ee88e50f9ce",
   "metadata": {},
   "outputs": [],
   "source": [
    "img_array = np.array(img)"
   ]
  },
  {
   "cell_type": "code",
   "execution_count": 9,
   "id": "2a61bc2f-013c-42d2-8b3b-8c3f417b8172",
   "metadata": {},
   "outputs": [],
   "source": [
    "gray_img = np.mean(img_array, axis=2)"
   ]
  },
  {
   "cell_type": "code",
   "execution_count": 10,
   "id": "653a55cd-be3f-4ae8-9358-3eec334910ac",
   "metadata": {},
   "outputs": [],
   "source": [
    "U, s, Vh = np.linalg.svd(gray_img)"
   ]
  },
  {
   "cell_type": "code",
   "execution_count": 11,
   "id": "44a7a3be-c02b-4369-bd2e-c86cb82af8fb",
   "metadata": {},
   "outputs": [],
   "source": [
    "singular_values = [1, 2, 10, 30, 100]\n",
    "\n",
    "for k in singular_values:\n",
    "    compressed_img = U[:, :k] @ np.diag(s[:k]) @ Vh[:k, :]\n",
    "    compressed_img = compressed_img.astype(np.uint8)\n",
    "    \n",
    "    Image.fromarray(compressed_img).save(f'compressed_{k}.jpg')"
   ]
  },
  {
   "cell_type": "code",
   "execution_count": 14,
   "id": "e1c9e86b-0afe-48ec-a7a5-44a7ac975aff",
   "metadata": {},
   "outputs": [
    {
     "name": "stdout",
     "output_type": "stream",
     "text": [
      "Original image size: 95132 bytes\n",
      "Compressed image size (k=1): 2170 bytes\n",
      "Compressed image size (k=2): 2567 bytes\n",
      "Compressed image size (k=10): 4153 bytes\n",
      "Compressed image size (k=30): 5369 bytes\n",
      "Compressed image size (k=100): 5350 bytes\n"
     ]
    }
   ],
   "source": [
    "import os\n",
    "\n",
    "\n",
    "original_size = os.path.getsize('panda.jpg')\n",
    "print(f'Original image size: {original_size} bytes')\n",
    "\n",
    "for k in singular_values:\n",
    "    compressed_size = os.path.getsize(f'compressed_{k}.jpg')\n",
    "    print(f'Compressed image size (k={k}): {compressed_size} bytes')"
   ]
  },
  {
   "cell_type": "code",
   "execution_count": 19,
   "id": "9be182f8-c39e-4884-8eab-91ee86e839f0",
   "metadata": {},
   "outputs": [
    {
     "name": "stdout",
     "output_type": "stream",
     "text": [
      "К =1\n"
     ]
    },
    {
     "data": {
      "image/jpeg": "[encoded data removed]",
      "text/plain": [
       "<IPython.core.display.Image object>"
      ]
     },
     "execution_count": 19,
     "metadata": {
      "image/jpeg": {
       "height": 240,
       "width": 320
      }
     },
     "output_type": "execute_result"
    }
   ],
   "source": [
    "from IPython.display import Image\n",
    "print('К =1')\n",
    "Image(\"compressed_1.jpg\", width=320, height=240) "
   ]
  },
  {
   "cell_type": "code",
   "execution_count": null,
   "id": "a44efb70-9a66-4867-9b8e-420e0d6b088c",
   "metadata": {},
   "outputs": [],
   "source": []
  },
  {
   "cell_type": "code",
   "execution_count": 15,
   "id": "5fe3ab9b-ac35-46d9-9f4c-7d1d6b258352",
   "metadata": {},
   "outputs": [
    {
     "name": "stderr",
     "output_type": "stream",
     "text": [
      "\"[k\" ­Ґ пў«пҐвбп ў­гваҐ­­Ґ© Ё«Ё ў­Ґи­Ґ©\n",
      "Є®¬ ­¤®©, ЁбЇ®«­пҐ¬®© Їа®Ја ¬¬®© Ё«Ё Ї ЄҐв­л¬ д ©«®¬.\n"
     ]
    }
   ],
   "source": []
  },
  {
   "cell_type": "code",
   "execution_count": null,
   "id": "ffffcc07-2214-4cca-819b-08201d657702",
   "metadata": {},
   "outputs": [],
   "source": []
  }
 ],
 "metadata": {
  "kernelspec": {
   "display_name": "Python 3 (ipykernel)",
   "language": "python",
   "name": "python3"
  },
  "language_info": {
   "codemirror_mode": {
    "name": "ipython",
    "version": 3
   },
   "file_extension": ".py",
   "mimetype": "text/x-python",
   "name": "python",
   "nbconvert_exporter": "python",
   "pygments_lexer": "ipython3",
   "version": "3.11.9"
  }
 },
 "nbformat": 4,
 "nbformat_minor": 5
}
